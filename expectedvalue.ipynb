{
 "cells": [
  {
   "cell_type": "code",
   "execution_count": 5,
   "metadata": {},
   "outputs": [
    {
     "name": "stdout",
     "output_type": "stream",
     "text": [
      "Estimated expected value: 0.42695709026259165\n"
     ]
    }
   ],
   "source": [
    "import numpy as np\n",
    "\n",
    "def monte_carlo_expected_value(m, t):\n",
    "    n_sims = 100000  # Number of Monte Carlo simulations\n",
    "    n_terms = 10\n",
    "    total = 0\n",
    "\n",
    "    omega = np.linspace(1, 10, n_terms)  # Generate uniform random values for omega\n",
    "\n",
    "    for _ in range():\n",
    "        theta = np.random.uniform(0, 2*np.pi, n_terms)  # Generate uniform random values for theta\n",
    "        terms = [m * np.sin(omega[i] * t + theta[i]) / omega[i] for i in range(n_terms)]\n",
    "        max_value = max(values)\n",
    "        total += max_value\n",
    "\n",
    "    expected_value = total / num_simulations\n",
    "    return expected_value\n",
    "\n",
    "# Example usage\n",
    "m = 1  # Value of m\n",
    "t = 1  # Value of t\n",
    "\n",
    "expected_value = monte_carlo_expected_value(m, t, omega)\n",
    "print(\"Estimated expected value:\", expected_value)"
   ]
  },
  {
   "cell_type": "code",
   "execution_count": 12,
   "metadata": {},
   "outputs": [
    {
     "data": {
      "text/latex": [
       "$\\displaystyle m \\cos{\\left(\\omega t + \\theta \\right)}$"
      ],
      "text/plain": [
       "m*cos(omega*t + theta)"
      ]
     },
     "execution_count": 12,
     "metadata": {},
     "output_type": "execute_result"
    }
   ],
   "source": [
    "from sympy import *\n",
    "m, omega, t, theta = symbols('m, omega, t, theta')\n",
    "\n",
    "term = m*sin(omega*t + theta)/omega\n",
    "term.diff(t).simplify()"
   ]
  },
  {
   "cell_type": "code",
   "execution_count": 22,
   "metadata": {},
   "outputs": [
    {
     "data": {
      "text/latex": [
       "$\\displaystyle x_{1} = - \\sin{\\left(a \\right)} \\sin{\\left(b \\right)} + \\cos{\\left(a \\right)} \\cos{\\left(b \\right)}$"
      ],
      "text/plain": [
       "Eq(x_1, -sin(a)*sin(b) + cos(a)*cos(b))"
      ]
     },
     "metadata": {},
     "output_type": "display_data"
    },
    {
     "data": {
      "text/latex": [
       "$\\displaystyle x_{1} = \\cos{\\left(a + b \\right)}$"
      ],
      "text/plain": [
       "Eq(x_1, cos(a + b))"
      ]
     },
     "metadata": {},
     "output_type": "display_data"
    },
    {
     "data": {
      "text/latex": [
       "$\\displaystyle x_{2} = - \\sin{\\left(a \\right)} \\sin{\\left(b \\right)} - \\sin{\\left(2 a \\right)} \\sin{\\left(b \\right)} + \\cos{\\left(a \\right)} \\cos{\\left(b \\right)} + \\cos{\\left(2 a \\right)} \\cos{\\left(b \\right)}$"
      ],
      "text/plain": [
       "Eq(x_2, -sin(a)*sin(b) - sin(2*a)*sin(b) + cos(a)*cos(b) + cos(2*a)*cos(b))"
      ]
     },
     "metadata": {},
     "output_type": "display_data"
    },
    {
     "data": {
      "text/latex": [
       "$\\displaystyle x_{2} = \\cos{\\left(a + b \\right)} + \\cos{\\left(2 a + b \\right)}$"
      ],
      "text/plain": [
       "Eq(x_2, cos(a + b) + cos(2*a + b))"
      ]
     },
     "metadata": {},
     "output_type": "display_data"
    },
    {
     "data": {
      "text/latex": [
       "$\\displaystyle x_{3} = - \\sin{\\left(a \\right)} \\sin{\\left(b \\right)} - \\sin{\\left(2 a \\right)} \\sin{\\left(b \\right)} - \\sin{\\left(3 a \\right)} \\sin{\\left(b \\right)} + \\cos{\\left(a \\right)} \\cos{\\left(b \\right)} + \\cos{\\left(2 a \\right)} \\cos{\\left(b \\right)} + \\cos{\\left(3 a \\right)} \\cos{\\left(b \\right)}$"
      ],
      "text/plain": [
       "Eq(x_3, -sin(a)*sin(b) - sin(2*a)*sin(b) - sin(3*a)*sin(b) + cos(a)*cos(b) + cos(2*a)*cos(b) + cos(3*a)*cos(b))"
      ]
     },
     "metadata": {},
     "output_type": "display_data"
    },
    {
     "data": {
      "text/latex": [
       "$\\displaystyle x_{3} = \\cos{\\left(a + b \\right)} + \\cos{\\left(2 a + b \\right)} + \\cos{\\left(3 a + b \\right)}$"
      ],
      "text/plain": [
       "Eq(x_3, cos(a + b) + cos(2*a + b) + cos(3*a + b))"
      ]
     },
     "metadata": {},
     "output_type": "display_data"
    },
    {
     "data": {
      "text/latex": [
       "$\\displaystyle x_{4} = - \\sin{\\left(a \\right)} \\sin{\\left(b \\right)} - \\sin{\\left(2 a \\right)} \\sin{\\left(b \\right)} - \\sin{\\left(3 a \\right)} \\sin{\\left(b \\right)} - \\sin{\\left(4 a \\right)} \\sin{\\left(b \\right)} + \\cos{\\left(a \\right)} \\cos{\\left(b \\right)} + \\cos{\\left(2 a \\right)} \\cos{\\left(b \\right)} + \\cos{\\left(3 a \\right)} \\cos{\\left(b \\right)} + \\cos{\\left(4 a \\right)} \\cos{\\left(b \\right)}$"
      ],
      "text/plain": [
       "Eq(x_4, -sin(a)*sin(b) - sin(2*a)*sin(b) - sin(3*a)*sin(b) - sin(4*a)*sin(b) + cos(a)*cos(b) + cos(2*a)*cos(b) + cos(3*a)*cos(b) + cos(4*a)*cos(b))"
      ]
     },
     "metadata": {},
     "output_type": "display_data"
    },
    {
     "data": {
      "text/latex": [
       "$\\displaystyle x_{4} = \\cos{\\left(a + b \\right)} + \\cos{\\left(2 a + b \\right)} + \\cos{\\left(3 a + b \\right)} + \\cos{\\left(4 a + b \\right)}$"
      ],
      "text/plain": [
       "Eq(x_4, cos(a + b) + cos(2*a + b) + cos(3*a + b) + cos(4*a + b))"
      ]
     },
     "metadata": {},
     "output_type": "display_data"
    }
   ],
   "source": [
    "a, b = symbols('a, b')\n",
    "\n",
    "x = 0\n",
    "\n",
    "for i in range(1,5):\n",
    "    x += cos(i*a)*cos(b) - sin(i*a)*sin(b)\n",
    "    display(Eq(symbols(f'x_{i}'), x))\n",
    "    display(Eq(symbols(f'x_{i}'), x.simplify()))\n"
   ]
  }
 ],
 "metadata": {
  "kernelspec": {
   "display_name": "Python 3",
   "language": "python",
   "name": "python3"
  },
  "language_info": {
   "codemirror_mode": {
    "name": "ipython",
    "version": 3
   },
   "file_extension": ".py",
   "mimetype": "text/x-python",
   "name": "python",
   "nbconvert_exporter": "python",
   "pygments_lexer": "ipython3",
   "version": "3.11.4"
  }
 },
 "nbformat": 4,
 "nbformat_minor": 2
}
